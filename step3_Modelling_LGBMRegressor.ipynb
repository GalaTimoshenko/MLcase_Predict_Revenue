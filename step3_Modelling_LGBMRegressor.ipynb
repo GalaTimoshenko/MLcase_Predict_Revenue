{
 "cells": [
  {
   "cell_type": "markdown",
   "metadata": {
    "id": "R3nCfEEi9HHg"
   },
   "source": [
    "# **ТРЕТЬЯ ЧАСТЬ  -  LGBMRegressor'**\n",
    "\n",
    "---\n",
    "\n",
    "*   На основе данных в файле train.csv научить модель, которая по любым параметрам из файла будет предсказывать колонку revenue_30d_total.\n",
    "*   Цель: максимально точно предсказать это значение.\n",
    "*   Метрика контроля качества: относительная ошибка на каждом пользователе:(predicted_revenue_30d_total - revenue_30d_total) / revenue_30d_total\n",
    "*   Можно пользоваться любыми фреймворками и типами моделей. Но желательно объяснить выбор того или иного инструмента. \n",
    "\n"
   ]
  },
  {
   "cell_type": "markdown",
   "metadata": {
    "id": "458QNctr9F6n"
   },
   "source": [
    "# **ИМПОРТ БИБЛИОТЕК**\n",
    "\n",
    "---"
   ]
  },
  {
   "cell_type": "code",
   "execution_count": 1,
   "metadata": {
    "colab": {
     "base_uri": "https://localhost:8080/"
    },
    "id": "V2o5zuraGrJC",
    "outputId": "c84305e7-038e-48cc-afc8-0f8a144af09d"
   },
   "outputs": [
    {
     "name": "stdout",
     "output_type": "stream",
     "text": [
      "Requirement already satisfied: scipy==1.7.1 in /home/sgm/anaconda3/lib/python3.9/site-packages (1.7.1)\n",
      "Requirement already satisfied: numpy<1.23.0,>=1.16.5 in /home/sgm/anaconda3/lib/python3.9/site-packages (from scipy==1.7.1) (1.21.5)\n",
      "Requirement already satisfied: lightgbm in /home/sgm/anaconda3/lib/python3.9/site-packages (3.3.5)\n",
      "Requirement already satisfied: scipy in /home/sgm/anaconda3/lib/python3.9/site-packages (from lightgbm) (1.7.1)\n",
      "Requirement already satisfied: numpy in /home/sgm/anaconda3/lib/python3.9/site-packages (from lightgbm) (1.21.5)\n",
      "Requirement already satisfied: wheel in /home/sgm/anaconda3/lib/python3.9/site-packages (from lightgbm) (0.37.1)\n",
      "Requirement already satisfied: scikit-learn!=0.22.0 in /home/sgm/anaconda3/lib/python3.9/site-packages (from lightgbm) (1.0.2)\n",
      "Requirement already satisfied: joblib>=0.11 in /home/sgm/anaconda3/lib/python3.9/site-packages (from scikit-learn!=0.22.0->lightgbm) (1.1.0)\n",
      "Requirement already satisfied: threadpoolctl>=2.0.0 in /home/sgm/anaconda3/lib/python3.9/site-packages (from scikit-learn!=0.22.0->lightgbm) (2.2.0)\n"
     ]
    }
   ],
   "source": [
    "from matplotlib import pyplot\n",
    "import seaborn as sns\n",
    "import pandas as pd\n",
    "import matplotlib.pyplot as plt\n",
    "import numpy as np\n",
    "import scipy\n",
    "import scipy.stats as stats\n",
    "\n",
    "\n",
    "from sklearn.preprocessing import OneHotEncoder, LabelEncoder\n",
    "from sklearn.preprocessing import StandardScaler\n",
    "import sklearn.linear_model as lm\n",
    "from sklearn.model_selection import train_test_split, cross_validate, KFold, cross_val_score\n",
    "from sklearn.tree import DecisionTreeClassifier\n",
    "from sklearn.ensemble import RandomForestClassifier\n",
    "from sklearn.neural_network import MLPClassifier\n",
    "from sklearn.metrics import accuracy_score, confusion_matrix, mean_absolute_error\n",
    "from sklearn.inspection import permutation_importance\n",
    "from sklearn.metrics import r2_score, mean_squared_error\n",
    "\n",
    "import pickle\n",
    "!pip install scipy==1.7.1\n",
    "import time\n",
    "import sys\n",
    "import os\n",
    "import warnings\n",
    "warnings.filterwarnings('ignore')\n",
    "\n",
    "\n",
    "\n",
    "from jupyterthemes import jtplot\n",
    "jtplot.style(context='notebook', ticks=True, grid=False)\n",
    "\n",
    "!pip install lightgbm\n",
    "import lightgbm as lgb"
   ]
  },
  {
   "cell_type": "markdown",
   "metadata": {
    "id": "4tZm2FEj9EcJ"
   },
   "source": [
    "# **ЗАГРУЗКА ФИН ДАТАСЕТ**\n",
    "\n",
    "\n",
    "---"
   ]
  },
  {
   "cell_type": "code",
   "execution_count": 2,
   "metadata": {
    "colab": {
     "base_uri": "https://localhost:8080/",
     "height": 380
    },
    "id": "27S1CIIciq3-",
    "outputId": "08165253-f573-4c34-949e-688e5fb28e3a"
   },
   "outputs": [],
   "source": [
    "# подготовим абсолютный путь до папки с данными\n",
    "path = os.path.expanduser('~/PycharmProjects/Brightika_test/')\n",
    "start = time.time() # включим таймер для подсчета времени чтения файла в датасет\n",
    "train = pd.read_csv(path + 'train_out_outliers.csv')"
   ]
  },
  {
   "cell_type": "code",
   "execution_count": 3,
   "metadata": {},
   "outputs": [
    {
     "data": {
      "text/plain": [
       "count    4125714.00000000\n",
       "mean           0.17701312\n",
       "std            0.93278879\n",
       "min            0.00000000\n",
       "25%            0.00350078\n",
       "50%            0.01942773\n",
       "75%            0.08062470\n",
       "max          178.39592106\n",
       "Name: revenue_30d_total, dtype: object"
      ]
     },
     "execution_count": 3,
     "metadata": {},
     "output_type": "execute_result"
    }
   ],
   "source": [
    "train['revenue_30d_total'].describe().apply(lambda x: f'{x:0.8f}')"
   ]
  },
  {
   "cell_type": "markdown",
   "metadata": {
    "id": "dhKOAHW-BMRK"
   },
   "source": [
    "# ПОДГОТОВКА К МОДЕЛИРОВАНИЮ "
   ]
  },
  {
   "cell_type": "markdown",
   "metadata": {},
   "source": [
    "## Feature generation\n",
    "Существуют различные способы повышения качества работы моделей машинного обучения.\n",
    "Одним из таких способов является создание новых признаков. \n",
    "в блокноте 1 части я создала доп признаки \n",
    "1) install_date_month - месяц установки пользователем приложения (первый вход)\n",
    "2) install_date_day -  день установки пользователем приложения (первый вход)\n",
    "3) user_agent -  Android тип устройства из идентификационная строка клиентского приложения\n",
    "\n",
    "создадим доп признак день недели\n",
    "4) install_date_weekday - установка день недели\n",
    "5) revenue_30d_total_median_per_os - медиана по выручке в зависимости от типа ОС\n",
    "6) revenue_30d_total_median_per_lan - медиана по выручке в зависимости от типа языка\n",
    "удалим все категор колонки, которые не будут учавствовать в моделировании\n",
    "install_date\n",
    "random_user_id"
   ]
  },
  {
   "cell_type": "code",
   "execution_count": 4,
   "metadata": {},
   "outputs": [],
   "source": [
    "train['install_date'] = pd.to_datetime(train.install_date, utc=True)\n",
    "train['install_date_weekday'] = train['install_date'].dt.weekday"
   ]
  },
  {
   "cell_type": "markdown",
   "metadata": {
    "scrolled": true
   },
   "source": [
    "lang_count = train.groupby('Android').agg(revenue_30d_total_median_per_os=('revenue_30d_total', np.median)).fillna(method='ffill').reset_index()\n",
    "train = pd.merge(train, lang_count, how='left', on='Android')\n",
    "train[['revenue_30d_total_median_per_os', 'revenue_30d_total']].head(3)"
   ]
  },
  {
   "cell_type": "markdown",
   "metadata": {},
   "source": [
    "lang_count = train.groupby('Android').agg(revenue_30d_total_mean_per_os=('revenue_30d_total', np.mean)).fillna(method='ffill').reset_index()\n",
    "train = pd.merge(train, lang_count, how='left', on='Android')\n",
    "train[['revenue_30d_total_mean_per_os', 'revenue_30d_total']].head(3)"
   ]
  },
  {
   "cell_type": "markdown",
   "metadata": {},
   "source": [
    "lang_count = train.groupby('language').agg(revenue_30d_total_median_per_lan=('revenue_30d_total', np.median)).fillna(method='ffill').reset_index()\n",
    "train = pd.merge(train, lang_count, how='left', on='language')\n",
    "train[['revenue_30d_total_mean_per_os', 'revenue_30d_total']].head(3)"
   ]
  },
  {
   "cell_type": "markdown",
   "metadata": {
    "scrolled": true
   },
   "source": [
    "lang_count = train.groupby('language').agg(revenue_30d_total_mean_per_lan=('revenue_30d_total', np.mean)).fillna(method='ffill').reset_index()\n",
    "train = pd.merge(train, lang_count, how='left', on='language')\n",
    "train[['revenue_30d_total_mean_per_lan', 'revenue_30d_total']].head(3)"
   ]
  },
  {
   "cell_type": "code",
   "execution_count": 5,
   "metadata": {},
   "outputs": [],
   "source": [
    "# добавим новые фичи (частота встречаемости языка)\n",
    "lan = train['language'].value_counts().reset_index().set_axis(['language', 'language_count'], axis=1)\n",
    "train = pd.merge(train, lan, how='left', on='language')\n",
    "train = train.drop(['install_date','random_user_id','Android', 'language'], axis=1)\n"
   ]
  },
  {
   "cell_type": "code",
   "execution_count": 6,
   "metadata": {},
   "outputs": [],
   "source": [
    "def sqr_sqrt_log_features_transform(train: pd.DataFrame,\n",
    "                                    sqr_miss: list=None,\n",
    "                                    sqrt_miss: list=None,\n",
    "                                    log_miss: list=None,\n",
    "                                   ) -> pd.DataFrame:\n",
    "    \"\"\"\n",
    "    Function transforms dataset adding squares, square roots and logarithm of numerical features\n",
    "    \n",
    "    :param df:  input data frame\n",
    "    :sqr_miss:  columns, that should be missed for square feature generation\n",
    "    :sqrt_miss: columns, that should be missed for square root feature generation\n",
    "    :log_miss:  columns, that should be missed for logarithm feature generation\n",
    "    \n",
    "    :return:    dataframe with added features\n",
    "    \"\"\"\n",
    "    \n",
    "    df = train.copy()\n",
    "    numeric_cols = df.select_dtypes(include=[np.number]).columns\n",
    "    for col in numeric_cols:\n",
    "        if ~np.isin(col, sqrt_miss):\n",
    "            df[f'{col}_sqr'] = np.square(df[col])\n",
    "        if ~np.isin(col, sqrt_miss):\n",
    "            df[f'{col}_sqrt'] = np.sqrt(df[col])\n",
    "        if ~np.isin(col, log_miss):\n",
    "            df[f'{col}_log'] = np.log(df[col] + 0.01)    \n",
    "    return df"
   ]
  },
  {
   "cell_type": "code",
   "execution_count": 7,
   "metadata": {},
   "outputs": [
    {
     "data": {
      "text/plain": [
       "(4125714, 85)"
      ]
     },
     "execution_count": 7,
     "metadata": {},
     "output_type": "execute_result"
    }
   ],
   "source": [
    "train = sqr_sqrt_log_features_transform(train, \n",
    "                                       sqr_miss=['revenue_30d_total'],\n",
    "                                       sqrt_miss=['revenue_30d_total'],\n",
    "                                       log_miss=['revenue_30d_total'],\n",
    "                                     )\n",
    "train.shape"
   ]
  },
  {
   "cell_type": "markdown",
   "metadata": {},
   "source": [
    "# **НОРМАЛИЗАЦИЯ, СТАБИЛИЗАЦИЯ ДАННЫХ**\n",
    "нормализация нужна, чтобы привезти данные к нормальному виду [0:1]\n",
    "чтобы переменная не могла влиять на другую больше чем остальные\n"
   ]
  },
  {
   "cell_type": "code",
   "execution_count": 8,
   "metadata": {
    "scrolled": true
   },
   "outputs": [
    {
     "name": "stdout",
     "output_type": "stream",
     "text": [
      "Среднее: [1.77753431e-02 7.46125017e-02 9.89730000e-03 4.69398585e-02\n",
      " 2.92092191e+01 1.74585248e+00 6.46785221e+00 2.16965039e+00\n",
      " 3.27863516e+01 1.69040147e+02 8.56888954e+02 1.11683903e+04]\n",
      "Дисперсия [7.89970851e-03 7.46299150e-02 1.53894151e-03 3.17609296e-02\n",
      " 3.17087290e+00 1.60188180e+00 3.51584997e-01 3.05335837e+01\n",
      " 4.38762026e+03 7.03529090e+04 5.79864825e+04 5.60001961e+09]\n"
     ]
    }
   ],
   "source": [
    "\n",
    "for_stand=train[['revenue_24h_rewards', 'revenue_24h_total', 'revenue_24h_banner', 'revenue_24h_inters',\n",
    "'api_level', 'sessions_24h', 'screen_inches_diagonal', 'ad_views_24h_rewards', 'ad_views_24h_total',\n",
    "'device_price', 'screen_pixels_width', 'conversion_duration']]\n",
    "\n",
    "\n",
    "std_scaler = StandardScaler()\n",
    "std_scaler\n",
    "std_scaler.fit(for_stand)\n",
    "print('Среднее:', std_scaler.mean_)\n",
    "print('Дисперсия', std_scaler.var_)\n",
    "std_scaled = std_scaler.transform(for_stand)\n",
    "\n"
   ]
  },
  {
   "cell_type": "code",
   "execution_count": 9,
   "metadata": {},
   "outputs": [],
   "source": [
    "# запишем новые значение стандартизированных данных (взяты из модели baseline после первой прогонки)\n",
    "# это топ фич по вкладу в модель\n",
    "train[['revenue_24h_total_std', 'revenue_24h_banner_std', 'revenue_24h_inters_std',\n",
    "        'revenue_24h_rewards_std', 'ad_views_24h_total_std',\n",
    "        'ad_views_24h_rewards_std', 'sessions_24h_std',\n",
    "        'conversion_duration_std', 'api_level_std', 'device_price_std',\n",
    "        'screen_inches_diagonal_std','screen_pixels_width_std'\n",
    "        ]] = std_scaled  \n"
   ]
  },
  {
   "cell_type": "markdown",
   "metadata": {},
   "source": [
    "# LGBMRegressor\n",
    "## train-test split\n",
    "это фреймворк, который предоставляет реализацию деревьев принятия решений с градиентным бустингом.\n"
   ]
  },
  {
   "cell_type": "code",
   "execution_count": 10,
   "metadata": {
    "scrolled": true
   },
   "outputs": [],
   "source": [
    "train_no_revenue_tree=train.drop(['revenue_30d_total'], axis=1)\n",
    "train_no_revenue_tree.shape\n",
    "X=train_no_revenue_tree\n",
    "y=train['revenue_30d_total']\n",
    "x_train, x_test, y_train, y_test = train_test_split(X, y, test_size=0.3, random_state=40)"
   ]
  },
  {
   "cell_type": "markdown",
   "metadata": {},
   "source": [
    "# Оценка точности модели\n",
    "training's l2: 0.506018\tvalid_1's l2: 0.535431\n",
    "кач-во чуть лучше чем на тестовой"
   ]
  },
  {
   "cell_type": "code",
   "execution_count": 11,
   "metadata": {},
   "outputs": [
    {
     "name": "stdout",
     "output_type": "stream",
     "text": [
      "[15]\ttraining's l2: 0.506018\tvalid_1's l2: 0.535431\n",
      "[30]\ttraining's l2: 0.479331\tvalid_1's l2: 0.512011\n",
      "[45]\ttraining's l2: 0.471175\tvalid_1's l2: 0.509131\n",
      "[60]\ttraining's l2: 0.465337\tvalid_1's l2: 0.508848\n"
     ]
    },
    {
     "data": {
      "text/plain": [
       "LGBMRegressor(max_depth=5, n_estimators=500, random_state=128)"
      ]
     },
     "execution_count": 11,
     "metadata": {},
     "output_type": "execute_result"
    }
   ],
   "source": [
    "lgb_params = {\"n_estimators\": 500,\n",
    "               \"max_depth\": 5,\n",
    "               \"n_jobs\": -1,\n",
    "               \"random_state\": 128,\n",
    "              }\n",
    "\n",
    "lgb = lgb.LGBMRegressor(**lgb_params)\n",
    "lgb.fit(x_train, y_train,\n",
    "              early_stopping_rounds=20, \n",
    "              eval_set=[(x_train, y_train), (x_test, y_test)],\n",
    "              verbose=15)\n",
    "gb_std = np.sqrt(mean_squared_error(y_train, lgb.predict(x_train)))\n",
    "gb_std"
   ]
  },
  {
   "cell_type": "code",
   "execution_count": 22,
   "metadata": {
    "scrolled": true
   },
   "outputs": [
    {
     "data": {
      "image/png": "[encoded data removed]",
      "text/plain": [
       "<Figure size 800x700 with 1 Axes>"
      ]
     },
     "metadata": {},
     "output_type": "display_data"
    }
   ],
   "source": [
    "sns.scatterplot(x=lgb.predict(x_train_clear), y=y_train.values).set(xscale=\"log\", yscale=\"log\")\n",
    "sns.scatterplot(x=lgb.predict(x_test_clear), y=y_test.values).set(xscale=\"log\", yscale=\"log\")\n",
    "plt.plot([1e3, 1e7], [1e3, 1e7], 'red', linewidth=2)\n",
    "plt.legend(labels=['Train', 'Test', 'Correlation'])\n",
    "plt.show()"
   ]
  },
  {
   "cell_type": "code",
   "execution_count": 16,
   "metadata": {
    "scrolled": true
   },
   "outputs": [
    {
     "data": {
      "text/plain": [
       "count    96.00000\n",
       "mean     15.58333\n",
       "std      30.70973\n",
       "min       0.00000\n",
       "25%       0.00000\n",
       "50%       0.00000\n",
       "75%      18.25000\n",
       "max     169.00000\n",
       "Name: feature_importances, dtype: float64"
      ]
     },
     "execution_count": 16,
     "metadata": {},
     "output_type": "execute_result"
    }
   ],
   "source": [
    "# выведем features и отсортируем по убыванию, чтобы понять, какие фичи вносят больший результат\n",
    "lgb.feature_importances_\n",
    "f_imp_list = list(zip(X.columns, lgb.feature_importances_))\n",
    "f_imp_list.sort(key = lambda x: x[1], reverse=True)\n",
    "f_imp_list=pd.DataFrame({\"features\": X.columns, \"feature_importances\": lgb.feature_importances_})\n",
    "f_imp_list['feature_importances'].describe()"
   ]
  },
  {
   "cell_type": "code",
   "execution_count": 17,
   "metadata": {},
   "outputs": [
    {
     "data": {
      "text/plain": [
       "count    38.00000\n",
       "mean     39.36842\n",
       "std      38.20671\n",
       "min       1.00000\n",
       "25%      10.75000\n",
       "50%      29.50000\n",
       "75%      55.00000\n",
       "max     169.00000\n",
       "Name: feature_importances, dtype: float64"
      ]
     },
     "execution_count": 17,
     "metadata": {},
     "output_type": "execute_result"
    }
   ],
   "source": [
    "# обрежем features, которые имеют вклад 0 в модель, ушло 45 features \n",
    "f_imp_list_cut = f_imp_list.loc[f_imp_list['feature_importances']>0, :]\n",
    "f_imp_list_cut['feature_importances'].describe()"
   ]
  },
  {
   "cell_type": "code",
   "execution_count": 18,
   "metadata": {},
   "outputs": [],
   "source": [
    " # Удалим фичи с нулевыми весами по feature_importance из тренировочной и тестовой выборок.\n",
    "columns_mask = (lgb.feature_importances_ != 0)\n",
    "x_train_clear = x_train[x_train.columns[columns_mask]]\n",
    "x_test_clear = x_test[x_test.columns[columns_mask]]"
   ]
  },
  {
   "cell_type": "code",
   "execution_count": 19,
   "metadata": {},
   "outputs": [
    {
     "name": "stdout",
     "output_type": "stream",
     "text": [
      "Requirement already satisfied: lightgbm in /home/sgm/anaconda3/lib/python3.9/site-packages (3.3.5)\n",
      "Requirement already satisfied: wheel in /home/sgm/anaconda3/lib/python3.9/site-packages (from lightgbm) (0.37.1)\n",
      "Requirement already satisfied: scipy in /home/sgm/anaconda3/lib/python3.9/site-packages (from lightgbm) (1.7.1)\n",
      "Requirement already satisfied: scikit-learn!=0.22.0 in /home/sgm/anaconda3/lib/python3.9/site-packages (from lightgbm) (1.0.2)\n",
      "Requirement already satisfied: numpy in /home/sgm/anaconda3/lib/python3.9/site-packages (from lightgbm) (1.21.5)\n",
      "Requirement already satisfied: joblib>=0.11 in /home/sgm/anaconda3/lib/python3.9/site-packages (from scikit-learn!=0.22.0->lightgbm) (1.1.0)\n",
      "Requirement already satisfied: threadpoolctl>=2.0.0 in /home/sgm/anaconda3/lib/python3.9/site-packages (from scikit-learn!=0.22.0->lightgbm) (2.2.0)\n"
     ]
    }
   ],
   "source": [
    "del lgb\n",
    "!pip install lightgbm\n",
    "import lightgbm as lgb"
   ]
  },
  {
   "cell_type": "code",
   "execution_count": 20,
   "metadata": {},
   "outputs": [
    {
     "name": "stdout",
     "output_type": "stream",
     "text": [
      "[15]\ttraining's l2: 0.508991\tvalid_1's l2: 0.527053\n",
      "[30]\ttraining's l2: 0.481179\tvalid_1's l2: 0.502642\n",
      "[45]\ttraining's l2: 0.471994\tvalid_1's l2: 0.500058\n",
      "[60]\ttraining's l2: 0.466292\tvalid_1's l2: 0.500101\n"
     ]
    },
    {
     "data": {
      "text/plain": [
       "LGBMRegressor(max_depth=5, n_estimators=500, random_state=128)"
      ]
     },
     "execution_count": 20,
     "metadata": {},
     "output_type": "execute_result"
    }
   ],
   "source": [
    " # Заново обучите модель и измерьте качество.\n",
    "x_train_clear, x_test_clear, y_train, y_test = train_test_split(X, y, test_size=0.3, random_state=42)\n",
    "\n",
    "lgb_params = {\"n_estimators\": 500,\n",
    "               \"max_depth\": 5,\n",
    "               \"n_jobs\": -1,\n",
    "               \"random_state\": 128,\n",
    "              }\n",
    "\n",
    "lgb = lgb.LGBMRegressor(**lgb_params)\n",
    "lgb.fit(x_train_clear, y_train,\n",
    "              early_stopping_rounds=20, \n",
    "              eval_set=[(x_train_clear, y_train), (x_test_clear, y_test)],\n",
    "              verbose=15)\n",
    "\n"
   ]
  },
  {
   "cell_type": "code",
   "execution_count": 21,
   "metadata": {},
   "outputs": [
    {
     "data": {
      "text/plain": [
       "1.1075808489799361"
      ]
     },
     "execution_count": 21,
     "metadata": {},
     "output_type": "execute_result"
    }
   ],
   "source": [
    "gb_std = np.sqrt(mean_squared_error(y_train, lgb.predict(x_train)))\n",
    "gb_std"
   ]
  },
  {
   "cell_type": "markdown",
   "metadata": {},
   "source": [
    "# извлечем из модели колонку предсказание выручки\n",
    "сделаем df состоящий из актуальнйо выручки, предсказанной и ошибки, которую по заданию необходимо оценить\n",
    "видим, что по статистике предсказине имеет большую ошибку на максим значений (порядок сильно разница и на минимальных)"
   ]
  },
  {
   "cell_type": "code",
   "execution_count": 37,
   "metadata": {},
   "outputs": [],
   "source": [
    "pred=lgb.predict(x_train_clear)"
   ]
  },
  {
   "cell_type": "code",
   "execution_count": 38,
   "metadata": {},
   "outputs": [],
   "source": [
    "#извлечем колонку со значениями predict \n",
    "pred=pd.DataFrame({\"prediction\": pred})\n",
    "pred_df = pd.merge(train['revenue_30d_total'], pred, left_index=True, right_index=True)\n",
    "#запишем его в датафрейм по формуле (predicted_revenue_30d_total - revenue_30d_total) / revenue_30d_total\n",
    "pred_df['relev_error']=(pred_df['prediction']-pred_df['revenue_30d_total'])/(pred_df['revenue_30d_total'])"
   ]
  },
  {
   "cell_type": "code",
   "execution_count": 39,
   "metadata": {},
   "outputs": [
    {
     "name": "stdout",
     "output_type": "stream",
     "text": [
      "relev_error прогноза выручки = 0              inf\n",
      "1          3.48487\n",
      "2         -0.84361\n",
      "3          0.26801\n",
      "4          0.67422\n",
      "            ...   \n",
      "2887994   24.14018\n",
      "2887995   -0.89039\n",
      "2887996        inf\n",
      "2887997    3.76811\n",
      "2887998    0.46862\n",
      "Length: 2887999, dtype: float64\n"
     ]
    }
   ],
   "source": [
    "#продублируем и посмотрим это же значением. если брать абсолютные значения, можно ли избежать деления на 0\n",
    "import numpy as np\n",
    "\n",
    "def relev_error(A, F):\n",
    "    with np.errstate(divide='ignore', invalid='ignore'):\n",
    "        tmp = (np.abs(A) - np.abs(F)) / np.abs(F)\n",
    "    \n",
    "    return tmp\n",
    "\n",
    "print('relev_error прогноза выручки =',relev_error(pred_df.prediction, pred_df.revenue_30d_total))\n"
   ]
  },
  {
   "cell_type": "code",
   "execution_count": 40,
   "metadata": {},
   "outputs": [],
   "source": [
    "#запишем полученное значение relev_error в датасет\n",
    "rel_error=relev_error(pred_df.prediction, pred_df.revenue_30d_total)\n",
    "pred_error=pd.DataFrame({\"relev_error_formule\": rel_error})\n",
    "pred_error_df = pd.merge(pred_df, pred_error, left_index=True, right_index=True)\n",
    "#заменим значения inf на 0\n",
    "pred_error_df.loc[pred_error_df['relev_error_formule'] > 180, 'relev_error_formule'] = pred_error_df['relev_error_formule'].apply(lambda x: 0)\n",
    "pred_error_df.loc[pred_error_df['relev_error'] > 180, 'relev_error'] = pred_error_df['relev_error'].apply(lambda x: 0)"
   ]
  },
  {
   "cell_type": "code",
   "execution_count": 41,
   "metadata": {},
   "outputs": [
    {
     "name": "stdout",
     "output_type": "stream",
     "text": [
      "smape прогноза выручки = 0         2.00000\n",
      "1         1.27072\n",
      "2         1.45903\n",
      "3         0.23634\n",
      "4         0.50424\n",
      "            ...  \n",
      "2887994   1.84698\n",
      "2887995   1.60488\n",
      "2887996   2.00000\n",
      "2887997   1.30653\n",
      "2887998   0.37966\n",
      "Length: 2887999, dtype: float64\n"
     ]
    }
   ],
   "source": [
    "#также расчитаем значением smape Symmetric mean absolute percentage error менее чувствителен к 0 значениям\n",
    "\n",
    "import numpy as np\n",
    "\n",
    "def smape(A, F):\n",
    "    with np.errstate(divide='ignore', invalid='ignore'):\n",
    "        tmp = 2 * np.abs(F-A) / (np.abs(A) + np.abs(F))\n",
    "    tmp[np.isnan(tmp)] = 0\n",
    "    return tmp\n",
    "print('smape прогноза выручки =',smape(pred_df.prediction, pred_df.revenue_30d_total))"
   ]
  },
  {
   "cell_type": "code",
   "execution_count": 42,
   "metadata": {},
   "outputs": [],
   "source": [
    "#запишем полученное значение smape в датасет\n",
    "smape_f=smape(pred_df.prediction, pred_df.revenue_30d_total)\n",
    "smape_df=pd.DataFrame({\"smape_error\": smape_f})\n",
    "pred_error_df = pd.merge(pred_error_df, smape_df, left_index=True, right_index=True)"
   ]
  },
  {
   "cell_type": "markdown",
   "metadata": {},
   "source": [
    "# Оценка метрики контроля качества на линейной модели train данные"
   ]
  },
  {
   "cell_type": "code",
   "execution_count": 43,
   "metadata": {},
   "outputs": [
    {
     "data": {
      "text/html": [
       "<div>\n",
       "<style scoped>\n",
       "    .dataframe tbody tr th:only-of-type {\n",
       "        vertical-align: middle;\n",
       "    }\n",
       "\n",
       "    .dataframe tbody tr th {\n",
       "        vertical-align: top;\n",
       "    }\n",
       "\n",
       "    .dataframe thead th {\n",
       "        text-align: right;\n",
       "    }\n",
       "</style>\n",
       "<table border=\"1\" class=\"dataframe\">\n",
       "  <thead>\n",
       "    <tr style=\"text-align: right;\">\n",
       "      <th></th>\n",
       "      <th>revenue_30d_total</th>\n",
       "      <th>prediction</th>\n",
       "      <th>relev_error</th>\n",
       "      <th>relev_error_formule</th>\n",
       "      <th>smape_error</th>\n",
       "    </tr>\n",
       "  </thead>\n",
       "  <tbody>\n",
       "    <tr>\n",
       "      <th>count</th>\n",
       "      <td>2887999.00000</td>\n",
       "      <td>2887999.00000</td>\n",
       "      <td>2887999.00000</td>\n",
       "      <td>2887999.00000</td>\n",
       "      <td>2887999.00000</td>\n",
       "    </tr>\n",
       "    <tr>\n",
       "      <th>mean</th>\n",
       "      <td>0.20299</td>\n",
       "      <td>0.17664</td>\n",
       "      <td>7.41275</td>\n",
       "      <td>7.41275</td>\n",
       "      <td>1.31841</td>\n",
       "    </tr>\n",
       "    <tr>\n",
       "      <th>std</th>\n",
       "      <td>1.05468</td>\n",
       "      <td>0.60382</td>\n",
       "      <td>22.13789</td>\n",
       "      <td>22.13789</td>\n",
       "      <td>0.62263</td>\n",
       "    </tr>\n",
       "    <tr>\n",
       "      <th>min</th>\n",
       "      <td>0.00000</td>\n",
       "      <td>0.00747</td>\n",
       "      <td>-0.99990</td>\n",
       "      <td>-0.99990</td>\n",
       "      <td>0.00000</td>\n",
       "    </tr>\n",
       "    <tr>\n",
       "      <th>25%</th>\n",
       "      <td>0.00350</td>\n",
       "      <td>0.01687</td>\n",
       "      <td>-0.57514</td>\n",
       "      <td>-0.57514</td>\n",
       "      <td>0.81149</td>\n",
       "    </tr>\n",
       "    <tr>\n",
       "      <th>50%</th>\n",
       "      <td>0.01985</td>\n",
       "      <td>0.03248</td>\n",
       "      <td>0.00000</td>\n",
       "      <td>0.00000</td>\n",
       "      <td>1.48156</td>\n",
       "    </tr>\n",
       "    <tr>\n",
       "      <th>75%</th>\n",
       "      <td>0.08597</td>\n",
       "      <td>0.10371</td>\n",
       "      <td>3.54256</td>\n",
       "      <td>3.54256</td>\n",
       "      <td>1.90616</td>\n",
       "    </tr>\n",
       "    <tr>\n",
       "      <th>max</th>\n",
       "      <td>178.39592</td>\n",
       "      <td>39.55039</td>\n",
       "      <td>179.99980</td>\n",
       "      <td>179.99980</td>\n",
       "      <td>2.00000</td>\n",
       "    </tr>\n",
       "  </tbody>\n",
       "</table>\n",
       "</div>"
      ],
      "text/plain": [
       "       revenue_30d_total    prediction   relev_error  relev_error_formule  \\\n",
       "count      2887999.00000 2887999.00000 2887999.00000        2887999.00000   \n",
       "mean             0.20299       0.17664       7.41275              7.41275   \n",
       "std              1.05468       0.60382      22.13789             22.13789   \n",
       "min              0.00000       0.00747      -0.99990             -0.99990   \n",
       "25%              0.00350       0.01687      -0.57514             -0.57514   \n",
       "50%              0.01985       0.03248       0.00000              0.00000   \n",
       "75%              0.08597       0.10371       3.54256              3.54256   \n",
       "max            178.39592      39.55039     179.99980            179.99980   \n",
       "\n",
       "        smape_error  \n",
       "count 2887999.00000  \n",
       "mean        1.31841  \n",
       "std         0.62263  \n",
       "min         0.00000  \n",
       "25%         0.81149  \n",
       "50%         1.48156  \n",
       "75%         1.90616  \n",
       "max         2.00000  "
      ]
     },
     "execution_count": 43,
     "metadata": {},
     "output_type": "execute_result"
    }
   ],
   "source": [
    "pd.options.display.float_format = '{:.5f}'.format\n",
    "pred_error_df.describe()"
   ]
  },
  {
   "cell_type": "code",
   "execution_count": 44,
   "metadata": {},
   "outputs": [
    {
     "data": {
      "text/plain": [
       "(0.0, 10.0)"
      ]
     },
     "execution_count": 44,
     "metadata": {},
     "output_type": "execute_result"
    },
    {
     "data": {
      "image/png": "[encoded data removed]",
      "text/plain": [
       "<Figure size 3000x1000 with 4 Axes>"
      ]
     },
     "metadata": {},
     "output_type": "display_data"
    }
   ],
   "source": [
    "from matplotlib.ticker import FormatStrFormatter\n",
    "fig, (ax1, ax2, ax3, ax4) = plt.subplots(nrows=4, ncols=1, figsize=(30, 10), sharex=True)\n",
    "\n",
    "ax1.hist(pred_error_df.revenue_30d_total, bins=100, color='orange')\n",
    "ax1.axvline(pred_error_df.revenue_30d_total.median(), color='red', linestyle='dashed', linewidth=1)\n",
    "\n",
    "ax2.hist(pred_error_df.prediction, bins=100, color='orange')\n",
    "ax2.axvline(pred_error_df.prediction.median(), color='red', linestyle='dashed', linewidth=1)\n",
    "\n",
    "\n",
    "ax3.hist(pred_error_df.smape_error, bins=100, color='orange')\n",
    "ax3.axvline(pred_error_df.smape_error.median(), color='red', linestyle='dashed', linewidth=1)\n",
    "\n",
    "\n",
    "ax4.hist(pred_error_df.relev_error_formule, bins=100, color='orange')\n",
    "ax4.axvline(pred_error_df.relev_error_formule.median(), color='red', linestyle='dashed', linewidth=1)\n",
    "\n",
    "ax1.set_xlim([0, 10])"
   ]
  },
  {
   "cell_type": "markdown",
   "metadata": {},
   "source": [
    "# Прогон модели на тестовом файле test.csv\n",
    "\n"
   ]
  },
  {
   "cell_type": "code",
   "execution_count": 46,
   "metadata": {},
   "outputs": [
    {
     "data": {
      "text/html": [
       "<div>\n",
       "<style scoped>\n",
       "    .dataframe tbody tr th:only-of-type {\n",
       "        vertical-align: middle;\n",
       "    }\n",
       "\n",
       "    .dataframe tbody tr th {\n",
       "        vertical-align: top;\n",
       "    }\n",
       "\n",
       "    .dataframe thead th {\n",
       "        text-align: right;\n",
       "    }\n",
       "</style>\n",
       "<table border=\"1\" class=\"dataframe\">\n",
       "  <thead>\n",
       "    <tr style=\"text-align: right;\">\n",
       "      <th></th>\n",
       "      <th>revenue_30d_total</th>\n",
       "      <th>prediction</th>\n",
       "      <th>relev_error</th>\n",
       "    </tr>\n",
       "  </thead>\n",
       "  <tbody>\n",
       "    <tr>\n",
       "      <th>count</th>\n",
       "      <td>2887999.00000</td>\n",
       "      <td>2887999.00000</td>\n",
       "      <td>2887999.00000</td>\n",
       "    </tr>\n",
       "    <tr>\n",
       "      <th>mean</th>\n",
       "      <td>0.20299</td>\n",
       "      <td>0.17672</td>\n",
       "      <td>inf</td>\n",
       "    </tr>\n",
       "    <tr>\n",
       "      <th>std</th>\n",
       "      <td>1.05468</td>\n",
       "      <td>0.60468</td>\n",
       "      <td>NaN</td>\n",
       "    </tr>\n",
       "    <tr>\n",
       "      <th>min</th>\n",
       "      <td>0.00000</td>\n",
       "      <td>0.00747</td>\n",
       "      <td>-0.99990</td>\n",
       "    </tr>\n",
       "    <tr>\n",
       "      <th>25%</th>\n",
       "      <td>0.00350</td>\n",
       "      <td>0.01687</td>\n",
       "      <td>-0.57602</td>\n",
       "    </tr>\n",
       "    <tr>\n",
       "      <th>50%</th>\n",
       "      <td>0.01985</td>\n",
       "      <td>0.03248</td>\n",
       "      <td>1.38343</td>\n",
       "    </tr>\n",
       "    <tr>\n",
       "      <th>75%</th>\n",
       "      <td>0.08597</td>\n",
       "      <td>0.10366</td>\n",
       "      <td>23.14727</td>\n",
       "    </tr>\n",
       "    <tr>\n",
       "      <th>max</th>\n",
       "      <td>178.39592</td>\n",
       "      <td>39.55039</td>\n",
       "      <td>inf</td>\n",
       "    </tr>\n",
       "  </tbody>\n",
       "</table>\n",
       "</div>"
      ],
      "text/plain": [
       "       revenue_30d_total    prediction   relev_error\n",
       "count      2887999.00000 2887999.00000 2887999.00000\n",
       "mean             0.20299       0.17672           inf\n",
       "std              1.05468       0.60468           NaN\n",
       "min              0.00000       0.00747      -0.99990\n",
       "25%              0.00350       0.01687      -0.57602\n",
       "50%              0.01985       0.03248       1.38343\n",
       "75%              0.08597       0.10366      23.14727\n",
       "max            178.39592      39.55039           inf"
      ]
     },
     "execution_count": 46,
     "metadata": {},
     "output_type": "execute_result"
    }
   ],
   "source": [
    "pred_lgb = lgb.predict(x_train)\n",
    "pred_lgb=pd.DataFrame({\"prediction\": pred_lgb})\n",
    "pred_lgb_df = pd.merge(train['revenue_30d_total'], pred_lgb, left_index=True, right_index=True)\n",
    "pred_lgb_df['relev_error']=(pred_lgb_df['prediction']-pred_lgb_df['revenue_30d_total'])/(pred_lgb_df['revenue_30d_total'])\n",
    "pd.options.display.float_format = '{:.5f}'.format\n",
    "pred_lgb_df[['revenue_30d_total','prediction', 'relev_error']].describe()"
   ]
  },
  {
   "cell_type": "code",
   "execution_count": 47,
   "metadata": {},
   "outputs": [
    {
     "data": {
      "text/plain": [
       "1.383433109057561"
      ]
     },
     "execution_count": 47,
     "metadata": {},
     "output_type": "execute_result"
    }
   ],
   "source": [
    "pred_lgb_df.relev_error. median () "
   ]
  },
  {
   "cell_type": "code",
   "execution_count": 49,
   "metadata": {},
   "outputs": [],
   "source": [
    "test = pd.read_csv(path + 'test_out_outliers.csv')\n",
    "test['install_date'] = pd.to_datetime(test.install_date, utc=True)\n",
    "test['install_date_weekday'] = test['install_date'].dt.weekday\n",
    "# добавим новые фичи (частота встречаемости языка)\n",
    "lan = test['language'].value_counts().reset_index().set_axis(['language', 'language_count'], axis=1)\n",
    "test = pd.merge(test, lan, how='left', on='language')"
   ]
  },
  {
   "cell_type": "code",
   "execution_count": 50,
   "metadata": {},
   "outputs": [],
   "source": [
    "test = sqr_sqrt_log_features_transform(test, \n",
    "                                       sqr_miss=['revenue_30d_total'],\n",
    "                                       sqrt_miss=['revenue_30d_total'],\n",
    "                                       log_miss=['revenue_30d_total'],\n",
    "                                     )\n",
    "test = test.drop(['install_date', 'random_user_id','Android', 'language'], axis=1)"
   ]
  },
  {
   "cell_type": "code",
   "execution_count": 51,
   "metadata": {},
   "outputs": [
    {
     "name": "stdout",
     "output_type": "stream",
     "text": [
      "Среднее: [1.77389461e-02 7.43703274e-02 9.82544462e-03 4.68059367e-02\n",
      " 2.92077053e+01 1.74607786e+00 6.46716110e+00 2.17283474e+00\n",
      " 3.27579578e+01 1.68546564e+02 8.56665191e+02 1.11462244e+04]\n",
      "Дисперсия [7.76183950e-03 7.36750131e-02 1.45811014e-03 3.14187990e-02\n",
      " 3.16836849e+00 1.60452087e+00 3.50436092e-01 3.06387177e+01\n",
      " 4.38151621e+03 6.98845178e+04 5.77948483e+04 5.39152965e+09]\n"
     ]
    }
   ],
   "source": [
    "for_stand_test=test[['revenue_24h_rewards', 'revenue_24h_total', 'revenue_24h_banner', 'revenue_24h_inters',\n",
    "'api_level', 'sessions_24h', 'screen_inches_diagonal', 'ad_views_24h_rewards', 'ad_views_24h_total',\n",
    "'device_price', 'screen_pixels_width', 'conversion_duration']]\n",
    "std_scaler.fit(for_stand_test)\n",
    "\n",
    "print('Среднее:', std_scaler.mean_)\n",
    "print('Дисперсия', std_scaler.var_)\n",
    "std_scaled = std_scaler.transform(for_stand_test)"
   ]
  },
  {
   "cell_type": "code",
   "execution_count": 52,
   "metadata": {},
   "outputs": [],
   "source": [
    "# запишем новые значение стандартизированных данных (взяты из модели baseline после первой прогонки)\n",
    "# это топ фич по вкладу в модель\n",
    "test[['revenue_24h_total_std', 'revenue_24h_banner_std', 'revenue_24h_inters_std',\n",
    "        'revenue_24h_rewards_std', 'ad_views_24h_total_std',\n",
    "        'ad_views_24h_rewards_std', 'sessions_24h_std',\n",
    "        'conversion_duration_std', 'api_level_std', 'device_price_std',\n",
    "        'screen_inches_diagonal_std','screen_pixels_width_std' \n",
    "        ]] = for_stand_test  \n"
   ]
  },
  {
   "cell_type": "code",
   "execution_count": 53,
   "metadata": {},
   "outputs": [],
   "source": [
    "test = test.drop(['revenue_30d_total'], axis=1)"
   ]
  },
  {
   "cell_type": "code",
   "execution_count": 54,
   "metadata": {},
   "outputs": [],
   "source": [
    "pred = lgb.predict(test)"
   ]
  },
  {
   "cell_type": "code",
   "execution_count": 55,
   "metadata": {},
   "outputs": [],
   "source": [
    "pred=pd.DataFrame({\"prediction\": pred})\n",
    "pred_df = pd.merge(test, pred, left_index=True, right_index=True)\n"
   ]
  },
  {
   "cell_type": "code",
   "execution_count": 56,
   "metadata": {},
   "outputs": [
    {
     "name": "stdout",
     "output_type": "stream",
     "text": [
      "mean значений реальных данных = prediction   0.17228\n",
      "dtype: float64\n",
      "median значений прогноз данных = prediction   0.07221\n",
      "dtype: float64\n"
     ]
    }
   ],
   "source": [
    "print('mean значений реальных данных =',pred. mean ()) \n",
    "print('median значений прогноз данных =',pred. median ()) "
   ]
  },
  {
   "cell_type": "code",
   "execution_count": 57,
   "metadata": {},
   "outputs": [
    {
     "data": {
      "text/plain": [
       "(0.0, 5.0)"
      ]
     },
     "execution_count": 57,
     "metadata": {},
     "output_type": "execute_result"
    },
    {
     "data": {
      "image/png": "[encoded data removed]",
      "text/plain": [
       "<Figure size 800x500 with 1 Axes>"
      ]
     },
     "metadata": {},
     "output_type": "display_data"
    }
   ],
   "source": [
    "plt.figure(figsize=(8, 5))\n",
    "\n",
    "plt.hist(pred, bins=100, color='orange')\n",
    "plt.xlim(0, 5)"
   ]
  },
  {
   "cell_type": "code",
   "execution_count": 58,
   "metadata": {
    "scrolled": false
   },
   "outputs": [
    {
     "data": {
      "text/plain": [
       "count   1770460.00000\n",
       "mean          0.17228\n",
       "std           0.41612\n",
       "min           0.03277\n",
       "25%           0.06011\n",
       "50%           0.07221\n",
       "75%           0.13221\n",
       "max          29.75212\n",
       "Name: prediction, dtype: float64"
      ]
     },
     "execution_count": 58,
     "metadata": {},
     "output_type": "execute_result"
    }
   ],
   "source": [
    "pred_df['prediction'].describe()"
   ]
  }
 ],
 "metadata": {
  "colab": {
   "collapsed_sections": [
    "Lf9ySaQ2N2wh",
    "n5QeE0mS72vw",
    "aK0vbiZKAWXA",
    "UA72aly_AezK",
    "da2l_TxwSnaf",
    "zBYmAgFgOGNj",
    "xyP5XBWrOZf0",
    "_jajoWUvOe_Z",
    "WLLpaEb0bqEx"
   ],
   "provenance": [],
   "toc_visible": true
  },
  "kernelspec": {
   "display_name": "Python 3 (ipykernel)",
   "language": "python",
   "name": "python3"
  },
  "language_info": {
   "codemirror_mode": {
    "name": "ipython",
    "version": 3
   },
   "file_extension": ".py",
   "mimetype": "text/x-python",
   "name": "python",
   "nbconvert_exporter": "python",
   "pygments_lexer": "ipython3",
   "version": "3.9.13"
  }
 },
 "nbformat": 4,
 "nbformat_minor": 1
}
